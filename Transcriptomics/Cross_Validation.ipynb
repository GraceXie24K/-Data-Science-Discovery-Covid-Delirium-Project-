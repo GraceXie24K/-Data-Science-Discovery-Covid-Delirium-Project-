{
 "cells": [
  {
   "cell_type": "code",
   "execution_count": 16,
   "metadata": {},
   "outputs": [],
   "source": [
    "import pandas as pd\n",
    "from sklearn.model_selection import train_test_split\n",
    "from sklearn.neighbors import KNeighborsClassifier\n",
    "from sklearn.metrics import classification_report\n",
    "\n",
    "# Load your data\n",
    "# Replace 'gene_expression.csv' and 'patient_annotation.csv' with actual file paths\n",
    "gene_expression_df = pd.read_csv('serial_norm_gene_exp_df.csv', index_col=0)  # Gene expression data\n",
    "patient_annotation_df = pd.read_csv('serial_samples_annotation.csv')          # Patient annotation data\n",
    "\n",
    "# Step 1: Calculate the average expression for each gene and select the top 500 genes\n",
    "\n",
    "# Step 2: Transpose gene data to have patients as rows and genes as columns\n",
    "genes_transposed = gene_expression_df.T\n",
    "genes_transposed.index.name = 'X'  # Rename index to match patient ID for merging\n",
    "\n",
    "# Step 3: Merge the gene expression data with patient annotations\n",
    "combined_df = patient_annotation_df.merge(genes_transposed, on='X', how='inner')\n",
    "\n",
    "# Step 4: Prepare features (gene expressions) and target (Delirium) for modeling\n",
    "X = combined_df.drop(columns=['X', 'Delirium', 'Diagnosis', 'Steroids', 'Late_del', 'Subject', 'Day'])  # Feature matrix\n",
    "y = combined_df['Diagnosis']  # Target variable\n",
    "\n",
    "\n",
    "from sklearn.feature_selection import SelectKBest, f_classif\n",
    "#ANOVA F-value between label/feature for classification tasks.\n",
    "select_features = SelectKBest(f_classif, k = 200).fit(X, y)\n",
    "\n",
    "X_selected = select_features.fit_transform(X, y)\n",
    "\n"
   ]
  },
  {
   "cell_type": "code",
   "execution_count": 17,
   "metadata": {},
   "outputs": [],
   "source": [
    "from sklearn.model_selection import GridSearchCV, cross_val_score, KFold\n",
    "from sklearn.svm import SVC"
   ]
  },
  {
   "cell_type": "code",
   "execution_count": 18,
   "metadata": {},
   "outputs": [
    {
     "name": "stdout",
     "output_type": "stream",
     "text": [
      "Nested CV Accuracy: 0.895 ± 0.009\n"
     ]
    }
   ],
   "source": [
    "param_grid = {\n",
    "    'C': [0.1, 1, 10],\n",
    "    'gamma': [0.001, 0.01, 0.1],\n",
    "    'kernel': ['rbf', 'linear']\n",
    "}\n",
    "\n",
    "# Set up inner and outer cross-validation strategies\n",
    "inner_cv = KFold(n_splits=3, shuffle=True, random_state=1)  # Inner CV for hyperparameter tuning\n",
    "outer_cv = KFold(n_splits=5, shuffle=True, random_state=1)  # Outer CV for model evaluation\n",
    "\n",
    "# Initialize the model\n",
    "model = SVC()\n",
    "\n",
    "# Use GridSearchCV for hyperparameter tuning within each outer fold\n",
    "grid_search = GridSearchCV(estimator=model, param_grid=param_grid, cv=inner_cv, scoring='accuracy')\n",
    "\n",
    "# Perform nested cross-validation\n",
    "nested_scores = cross_val_score(grid_search, X, y, cv=outer_cv, scoring='accuracy')\n",
    "\n",
    "# Print results\n",
    "print(f\"Nested CV Accuracy: {nested_scores.mean():.3f} ± {nested_scores.std():.3f}\")"
   ]
  },
  {
   "cell_type": "code",
   "execution_count": 19,
   "metadata": {},
   "outputs": [
    {
     "name": "stdout",
     "output_type": "stream",
     "text": [
      "Nested CV Accuracy: 0.864 ± 0.022\n"
     ]
    }
   ],
   "source": [
    "from sklearn.linear_model import LogisticRegression\n",
    "from sklearn.model_selection import GridSearchCV, cross_val_score, KFold\n",
    "import numpy as np\n",
    "\n",
    "\n",
    "\n",
    "# Define the parameter grid for logistic regression hyperparameter tuning\n",
    "param_grid = {\n",
    "    'C': [0.1, 1, 10],              # Regularization strength\n",
    "    'penalty': ['l2'],               # Regularization type (l2 is standard for LogisticRegression)\n",
    "    'solver': ['lbfgs']              # Solver compatible with l2 penalty\n",
    "}\n",
    "\n",
    "# Set up inner and outer cross-validation strategies\n",
    "inner_cv = KFold(n_splits=3, shuffle=True, random_state=1)  # for hyperparameter tuning\n",
    "outer_cv = KFold(n_splits=5, shuffle=True, random_state=1)  # for model evaluation\n",
    "\n",
    "# Initialize the logistic regression model\n",
    "log_reg = LogisticRegression(max_iter=1000)\n",
    "\n",
    "# Use GridSearchCV for hyperparameter tuning within each outer fold\n",
    "grid_search = GridSearchCV(estimator=log_reg, param_grid=param_grid, cv=inner_cv, scoring='accuracy')\n",
    "\n",
    "# Perform nested cross-validation\n",
    "nested_scores = cross_val_score(grid_search, X, y, cv=outer_cv, scoring='accuracy')\n",
    "\n",
    "# Output results\n",
    "print(f\"Nested CV Accuracy: {nested_scores.mean():.3f} ± {nested_scores.std():.3f}\")\n"
   ]
  },
  {
   "cell_type": "code",
   "execution_count": 20,
   "metadata": {},
   "outputs": [
    {
     "name": "stdout",
     "output_type": "stream",
     "text": [
      "Nested CV Accuracy: 0.735 ± 0.025\n"
     ]
    }
   ],
   "source": [
    "from sklearn.ensemble import RandomForestClassifier\n",
    "\n",
    "param_grid = {\n",
    "    'C': [0.1, 1, 10],\n",
    "    'gamma': [0.001, 0.01, 0.1],\n",
    "    'kernel': ['rbf', 'linear']\n",
    "}\n",
    "\n",
    "# Set up inner and outer cross-validation strategies\n",
    "inner_cv = KFold(n_splits=3, shuffle=True, random_state=1)  # Inner CV for hyperparameter tuning\n",
    "outer_cv = KFold(n_splits=5, shuffle=True, random_state=1)  # Outer CV for model evaluation\n",
    "\n",
    "# Initialize the model\n",
    "model = RandomForestClassifier()\n",
    "\n",
    "param_grid = {\n",
    "    'n_estimators': [50, 100, 200],  # Number of trees in the forest\n",
    "    'max_depth': [None, 10, 20],     # Maximum depth of each tree\n",
    "    'min_samples_split': [2, 5, 10], # Minimum samples required to split an internal node\n",
    "    'min_samples_leaf': [1, 2, 4]    # Minimum samples required to be at a leaf node\n",
    "}\n",
    "\n",
    "# Set up inner and outer cross-validation strategies\n",
    "inner_cv = KFold(n_splits=3, shuffle=True, random_state=1)  # for hyperparameter tuning\n",
    "outer_cv = KFold(n_splits=5, shuffle=True, random_state=1)  # for model evaluation\n",
    "\n",
    "# Initialize the Random Forest model\n",
    "rf_model = RandomForestClassifier(random_state=1)\n",
    "\n",
    "# Use GridSearchCV for hyperparameter tuning within each outer fold\n",
    "grid_search = GridSearchCV(estimator=rf_model, param_grid=param_grid, cv=inner_cv, scoring='accuracy')\n",
    "\n",
    "# Perform nested cross-validation\n",
    "nested_scores = cross_val_score(grid_search, X, y, cv=outer_cv, scoring='accuracy')\n",
    "\n",
    "# Print the results\n",
    "print(f\"Nested CV Accuracy: {nested_scores.mean():.3f} ± {nested_scores.std():.3f}\")"
   ]
  },
  {
   "cell_type": "code",
   "execution_count": 15,
   "metadata": {},
   "outputs": [
    {
     "name": "stdout",
     "output_type": "stream",
     "text": [
      "Nested CV Accuracy: 0.794 ± 0.061\n"
     ]
    }
   ],
   "source": [
    "from sklearn.neighbors import KNeighborsClassifier\n",
    "\n",
    "param_grid = {\n",
    "    'n_neighbors': [1,2,3,4,5,6,7,8,9,10,11,12,13,14,15,16,17,18,18,20,21],     # Different values for number of neighbors\n",
    "    'weights': ['uniform', 'distance'],  # Use either uniform or distance-based weights\n",
    "    'metric': ['euclidean', 'manhattan'] # Distance metrics to consider\n",
    "}\n",
    "\n",
    "# Set up inner and outer cross-validation strategies\n",
    "inner_cv = KFold(n_splits=3, shuffle=True, random_state=1)  # for hyperparameter tuning\n",
    "outer_cv = KFold(n_splits=5, shuffle=True, random_state=1)  # for model evaluation\n",
    "\n",
    "# Initialize the K-Nearest Neighbors model\n",
    "knn_model = KNeighborsClassifier()\n",
    "\n",
    "# Use GridSearchCV for hyperparameter tuning within each outer fold\n",
    "grid_search = GridSearchCV(estimator=knn_model, param_grid=param_grid, cv=inner_cv, scoring='accuracy')\n",
    "\n",
    "# Perform nested cross-validation\n",
    "nested_scores = cross_val_score(grid_search, X, y, cv=outer_cv, scoring='accuracy')\n",
    "\n",
    "# Print the results\n",
    "print(f\"Nested CV Accuracy: {nested_scores.mean():.3f} ± {nested_scores.std():.3f}\")\n"
   ]
  },
  {
   "cell_type": "code",
   "execution_count": null,
   "metadata": {},
   "outputs": [],
   "source": []
  }
 ],
 "metadata": {
  "kernelspec": {
   "display_name": "Python 3",
   "language": "python",
   "name": "python3"
  },
  "language_info": {
   "codemirror_mode": {
    "name": "ipython",
    "version": 3
   },
   "file_extension": ".py",
   "mimetype": "text/x-python",
   "name": "python",
   "nbconvert_exporter": "python",
   "pygments_lexer": "ipython3",
   "version": "3.12.1"
  }
 },
 "nbformat": 4,
 "nbformat_minor": 2
}
