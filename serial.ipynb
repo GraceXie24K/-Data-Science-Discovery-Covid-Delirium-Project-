{
 "cells": [
  {
   "cell_type": "code",
   "execution_count": 1,
   "metadata": {},
   "outputs": [
    {
     "name": "stderr",
     "output_type": "stream",
     "text": [
      "c:\\Users\\grace\\AppData\\Local\\Programs\\Python\\Python312\\Lib\\site-packages\\tqdm\\auto.py:21: TqdmWarning: IProgress not found. Please update jupyter and ipywidgets. See https://ipywidgets.readthedocs.io/en/stable/user_install.html\n",
      "  from .autonotebook import tqdm as notebook_tqdm\n"
     ]
    }
   ],
   "source": [
    "#Import Modules\n",
    "import numpy as np\n",
    "import pandas as pd\n",
    "import scipy\n",
    "import shap\n",
    "import matplotlib.pyplot as plt\n",
    "from sklearn.linear_model import LogisticRegression\n",
    "from sklearn.model_selection import train_test_split\n",
    "from sklearn.preprocessing import OneHotEncoder\n",
    "from sklearn.metrics import roc_curve, auc"
   ]
  },
  {
   "cell_type": "code",
   "execution_count": 2,
   "metadata": {},
   "outputs": [
    {
     "name": "stderr",
     "output_type": "stream",
     "text": [
      "<>:4: SyntaxWarning: invalid escape sequence '\\d'\n",
      "<>:5: SyntaxWarning: invalid escape sequence '\\g'\n",
      "<>:6: SyntaxWarning: invalid escape sequence '\\s'\n",
      "<>:7: SyntaxWarning: invalid escape sequence '\\s'\n",
      "<>:4: SyntaxWarning: invalid escape sequence '\\d'\n",
      "<>:5: SyntaxWarning: invalid escape sequence '\\g'\n",
      "<>:6: SyntaxWarning: invalid escape sequence '\\s'\n",
      "<>:7: SyntaxWarning: invalid escape sequence '\\s'\n",
      "C:\\Users\\grace\\AppData\\Local\\Temp\\ipykernel_7092\\715775129.py:4: SyntaxWarning: invalid escape sequence '\\d'\n",
      "  delirium_cohort_demographics = pd.read_excel(f\"../Key data files\\delirium cohort demographics.xlsx\").iloc[:128,:]\n",
      "C:\\Users\\grace\\AppData\\Local\\Temp\\ipykernel_7092\\715775129.py:5: SyntaxWarning: invalid escape sequence '\\g'\n",
      "  gene_symbols = pd.read_csv(f\"../Key data files\\gene_symbols.csv\").iloc[:,1:]\n",
      "C:\\Users\\grace\\AppData\\Local\\Temp\\ipykernel_7092\\715775129.py:6: SyntaxWarning: invalid escape sequence '\\s'\n",
      "  serial_norm_gene_exp = pd.read_csv(f\"../Key data files\\serial_norm_gene_exp_df.csv\").rename(columns = {'Unnamed: 0':'gene_symbols'})\n",
      "C:\\Users\\grace\\AppData\\Local\\Temp\\ipykernel_7092\\715775129.py:7: SyntaxWarning: invalid escape sequence '\\s'\n",
      "  serial_samples_annotation = pd.read_csv(f\"../Key data files\\serial_samples_annotation.csv\").rename(columns = {'X':'patient_ids'})\n"
     ]
    }
   ],
   "source": [
    "#Load Data\n",
    "admission_annotation = pd.read_csv(f\"../Key data files/admission_annotation.csv\").rename(columns = {'X':'patient_ids'})\n",
    "admission_norm_gene_exp = pd.read_csv(f\"../Key data files/admission_norm_gene_exp_df.csv\").rename(columns = {'Unnamed: 0':'gene_ids'})\n",
    "delirium_cohort_demographics = pd.read_excel(f\"../Key data files\\delirium cohort demographics.xlsx\").iloc[:128,:]\n",
    "gene_symbols = pd.read_csv(f\"../Key data files\\gene_symbols.csv\").iloc[:,1:]\n",
    "serial_norm_gene_exp = pd.read_csv(f\"../Key data files\\serial_norm_gene_exp_df.csv\").rename(columns = {'Unnamed: 0':'gene_symbols'})\n",
    "serial_samples_annotation = pd.read_csv(f\"../Key data files\\serial_samples_annotation.csv\").rename(columns = {'X':'patient_ids'})"
   ]
  },
  {
   "cell_type": "code",
   "execution_count": 3,
   "metadata": {},
   "outputs": [],
   "source": [
    "s = serial_norm_gene_exp.set_index('gene_symbols').T.reset_index()"
   ]
  },
  {
   "cell_type": "code",
   "execution_count": 4,
   "metadata": {},
   "outputs": [],
   "source": [
    "d7 = serial_samples_annotation[serial_samples_annotation['Day'] == 7].reset_index(drop= True)[\"Diagnosis\"]\n",
    "d4 = serial_samples_annotation[serial_samples_annotation['Day'] == 4].iloc[:-1,:].reset_index(drop= True)[\"Diagnosis\"]"
   ]
  },
  {
   "cell_type": "code",
   "execution_count": 5,
   "metadata": {},
   "outputs": [],
   "source": [
    "day_7 = s[serial_samples_annotation['Day'] == 7].reset_index(drop= True).iloc[:,1:]\n",
    "day_4 = s[serial_samples_annotation['Day'] == 4].iloc[:-1,:].reset_index(drop= True).iloc[:,1:]\n",
    "\n",
    "day_7[\"Delirium\"] = d7\n",
    "day_4[\"Delirium\"] = d4\n",
    "\n",
    "day_4_d = day_4[day_4[\"Delirium\"] == 0]\n",
    "day_4_nd = day_4[day_4[\"Delirium\"] == 1]\n",
    "day_7_d = day_7[day_7[\"Delirium\"] == 0]\n",
    "day_7_nd = day_7[day_7[\"Delirium\"] == 1]"
   ]
  },
  {
   "cell_type": "code",
   "execution_count": 6,
   "metadata": {},
   "outputs": [
    {
     "name": "stderr",
     "output_type": "stream",
     "text": [
      "c:\\Users\\grace\\AppData\\Local\\Programs\\Python\\Python312\\Lib\\site-packages\\scipy\\stats\\_axis_nan_policy.py:573: RuntimeWarning: Precision loss occurred in moment calculation due to catastrophic cancellation. This occurs when the data are nearly identical. Results may be unreliable.\n",
      "  res = hypotest_fun_out(*samples, **kwds)\n"
     ]
    }
   ],
   "source": [
    "from scipy.stats import ttest_ind\n",
    "p_values1 = []\n",
    "p_values2 = []\n",
    "\n",
    "for i in range(day_4.shape[1]):\n",
    "    t_statistic, p_value = ttest_ind(day_4_d.iloc[:,i], day_7_d.iloc[:,1])\n",
    "    p_values1.append(p_value)\n",
    "    t_statistic, p_value = ttest_ind(day_4_nd.iloc[:,i], day_7_nd.iloc[:,1])\n",
    "    p_values2.append(p_value)\n"
   ]
  },
  {
   "cell_type": "code",
   "execution_count": 7,
   "metadata": {},
   "outputs": [
    {
     "data": {
      "text/plain": [
       "(12683, 112)"
      ]
     },
     "execution_count": 7,
     "metadata": {},
     "output_type": "execute_result"
    }
   ],
   "source": [
    "df = admission_norm_gene_exp.set_index('gene_ids')\n",
    "df.shape"
   ]
  },
  {
   "cell_type": "code",
   "execution_count": 11,
   "metadata": {},
   "outputs": [],
   "source": [
    "sets = serial_norm_gene_exp.set_index('gene_symbols')[(diff > 0.5).tolist()[1:]].index"
   ]
  },
  {
   "cell_type": "code",
   "execution_count": 12,
   "metadata": {},
   "outputs": [],
   "source": [
    "ids = gene_symbols.set_index('gene_symbols').T[sets].T['gene_ids'].tolist()\n",
    "ids\n",
    "\n",
    "t = admission_norm_gene_exp['gene_ids'].tolist()\n",
    "\n",
    "intersection = list(set(ids).intersection(set(t)))"
   ]
  },
  {
   "cell_type": "code",
   "execution_count": 13,
   "metadata": {},
   "outputs": [],
   "source": [
    "admission_norm_gene_exp.set_index('gene_ids').T[intersection].to_csv('serial features.csv')"
   ]
  },
  {
   "cell_type": "code",
   "execution_count": 26,
   "metadata": {},
   "outputs": [],
   "source": [
    "a = admission_norm_gene_exp.set_index('gene_ids').T[intersection].T.index.to_frame().reset_index(drop = True)"
   ]
  },
  {
   "cell_type": "code",
   "execution_count": 31,
   "metadata": {},
   "outputs": [],
   "source": [
    "a.to_excel(\"serial.xlsx\")\n"
   ]
  },
  {
   "cell_type": "code",
   "execution_count": 29,
   "metadata": {},
   "outputs": [],
   "source": [
    "gene_symbols.merge(a, on = \"gene_ids\").to_excel(\"serial.xlsx\")"
   ]
  },
  {
   "cell_type": "code",
   "execution_count": 10,
   "metadata": {},
   "outputs": [],
   "source": [
    "diff = np.array(p_values1) - np.array(p_values2)"
   ]
  },
  {
   "cell_type": "code",
   "execution_count": null,
   "metadata": {},
   "outputs": [],
   "source": []
  }
 ],
 "metadata": {
  "kernelspec": {
   "display_name": "Python 3",
   "language": "python",
   "name": "python3"
  },
  "language_info": {
   "codemirror_mode": {
    "name": "ipython",
    "version": 3
   },
   "file_extension": ".py",
   "mimetype": "text/x-python",
   "name": "python",
   "nbconvert_exporter": "python",
   "pygments_lexer": "ipython3",
   "version": "3.12.4"
  }
 },
 "nbformat": 4,
 "nbformat_minor": 2
}
